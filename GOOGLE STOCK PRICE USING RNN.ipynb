{
 "cells": [
  {
   "cell_type": "markdown",
   "id": "7ac8f866",
   "metadata": {},
   "source": [
    "#Part 1 Data Preprocessing\n",
    "#Importing Libraries"
   ]
  },
  {
   "cell_type": "code",
   "execution_count": 28,
   "id": "04bf5897",
   "metadata": {},
   "outputs": [],
   "source": [
    "import numpy as np\n",
    "import matplotlib.pyplot as plt\n",
    "import pandas as pd"
   ]
  },
  {
   "cell_type": "markdown",
   "id": "1648aa0b",
   "metadata": {},
   "source": [
    "#Importing Training Dataset"
   ]
  },
  {
   "cell_type": "code",
   "execution_count": 29,
   "id": "9f0dfa3b",
   "metadata": {},
   "outputs": [],
   "source": [
    "dataset_train=pd.read_csv(\"Google_Stock_Price_Train.csv\")\n",
    "training_set=dataset_train.iloc[:,1:2].values"
   ]
  },
  {
   "cell_type": "markdown",
   "id": "b79fa37b",
   "metadata": {},
   "source": [
    "#Feature Scaling (Standardization/ Normalization)"
   ]
  },
  {
   "cell_type": "code",
   "execution_count": 30,
   "id": "2d2dc227",
   "metadata": {},
   "outputs": [
    {
     "name": "stdout",
     "output_type": "stream",
     "text": [
      "[[0.08581368]\n",
      " [0.09701243]\n",
      " [0.09433366]\n",
      " ...\n",
      " [0.95725128]\n",
      " [0.93796041]\n",
      " [0.93688146]]\n"
     ]
    }
   ],
   "source": [
    "from sklearn.preprocessing import MinMaxScaler\n",
    "sc=MinMaxScaler(feature_range=(0,1))\n",
    "training_set_scaled=sc.fit_transform(training_set)\n",
    "print(training_set_scaled)"
   ]
  },
  {
   "cell_type": "markdown",
   "id": "fe8f099b",
   "metadata": {},
   "source": [
    "#Creating a data structure with 60 timestamps and 1 output"
   ]
  },
  {
   "cell_type": "code",
   "execution_count": 31,
   "id": "2197abff",
   "metadata": {},
   "outputs": [
    {
     "name": "stdout",
     "output_type": "stream",
     "text": [
      "X_Train Data [[0.08581368 0.09701243 0.09433366 ... 0.07846566 0.08034452 0.08497656]\n",
      " [0.09701243 0.09433366 0.09156187 ... 0.08034452 0.08497656 0.08627874]\n",
      " [0.09433366 0.09156187 0.07984225 ... 0.08497656 0.08627874 0.08471612]\n",
      " ...\n",
      " [0.92106928 0.92438053 0.93048218 ... 0.95475854 0.95204256 0.95163331]\n",
      " [0.92438053 0.93048218 0.9299055  ... 0.95204256 0.95163331 0.95725128]\n",
      " [0.93048218 0.9299055  0.93113327 ... 0.95163331 0.95725128 0.93796041]]\n",
      "y_train Date [0.08627874 0.08471612 0.07454052 ... 0.95725128 0.93796041 0.93688146]\n"
     ]
    }
   ],
   "source": [
    "X_train=[]\n",
    "y_train=[]\n",
    "for i in range(60,1258):\n",
    "    X_train.append(training_set_scaled[i-60:i,0])\n",
    "    y_train.append(training_set_scaled[i,0])\n",
    "X_train,y_train=np.array(X_train),np.array(y_train)\n",
    "\n",
    "print(\"X_Train Data\",X_train)\n",
    "print(\"y_train Date\",y_train)"
   ]
  },
  {
   "cell_type": "markdown",
   "id": "9d1617df",
   "metadata": {},
   "source": [
    "#Reshaping the data (Adding Dimensions)"
   ]
  },
  {
   "cell_type": "markdown",
   "id": "5a7ecc99",
   "metadata": {},
   "source": [
    "X_train=np.reshape(X_train,(X_train.shape[0],X_train.shape[1],1))"
   ]
  },
  {
   "cell_type": "markdown",
   "id": "ba337836",
   "metadata": {},
   "source": [
    "#Part 2- Building the RNN"
   ]
  },
  {
   "cell_type": "code",
   "execution_count": 32,
   "id": "a6c6b19a",
   "metadata": {},
   "outputs": [
    {
     "name": "stdout",
     "output_type": "stream",
     "text": [
      "WARNING:tensorflow:From C:\\Users\\hp\\anaconda3\\envs\\TensorFlow\\lib\\site-packages\\keras\\src\\losses.py:2976: The name tf.losses.sparse_softmax_cross_entropy is deprecated. Please use tf.compat.v1.losses.sparse_softmax_cross_entropy instead.\n",
      "\n"
     ]
    }
   ],
   "source": [
    "from keras.models import Sequential\n",
    "from keras.layers import Dense, LSTM, Dropout"
   ]
  },
  {
   "cell_type": "markdown",
   "id": "9b5f88bf",
   "metadata": {},
   "source": [
    "#Initalising the RNN"
   ]
  },
  {
   "cell_type": "code",
   "execution_count": 33,
   "id": "fbdf487c",
   "metadata": {},
   "outputs": [
    {
     "name": "stdout",
     "output_type": "stream",
     "text": [
      "WARNING:tensorflow:From C:\\Users\\hp\\anaconda3\\envs\\TensorFlow\\lib\\site-packages\\keras\\src\\backend.py:873: The name tf.get_default_graph is deprecated. Please use tf.compat.v1.get_default_graph instead.\n",
      "\n"
     ]
    }
   ],
   "source": [
    "regressor=Sequential()"
   ]
  },
  {
   "cell_type": "markdown",
   "id": "6ec148c1",
   "metadata": {},
   "source": [
    "#Adding the first LSTM layer and some Dropout Regularization"
   ]
  },
  {
   "cell_type": "code",
   "execution_count": 34,
   "id": "9bd4284a",
   "metadata": {},
   "outputs": [],
   "source": [
    "#Layer-1\n",
    "regressor.add(LSTM(units=50,return_sequences=True,input_shape=(X_train.shape[1],1)))\n",
    "regressor.add(Dropout(0.2))\n",
    "#Layer-2\n",
    "regressor.add(LSTM(units=50,return_sequences=True))\n",
    "regressor.add(Dropout(0.2))\n",
    "#Layer-3\n",
    "regressor.add(LSTM(units=50,return_sequences=True))\n",
    "regressor.add(Dropout(0.2))\n",
    "#Layer-4\n",
    "regressor.add(LSTM(units=50,return_sequences=False))\n",
    "regressor.add(Dropout(0.2))\n",
    "              \n",
    "#Adding the output layer\n",
    "regressor.add(Dense(units=1))"
   ]
  },
  {
   "cell_type": "markdown",
   "id": "824ea517",
   "metadata": {},
   "source": [
    "#Compiling the RNN"
   ]
  },
  {
   "cell_type": "code",
   "execution_count": 35,
   "id": "ed1c81d7",
   "metadata": {},
   "outputs": [
    {
     "name": "stdout",
     "output_type": "stream",
     "text": [
      "WARNING:tensorflow:From C:\\Users\\hp\\anaconda3\\envs\\TensorFlow\\lib\\site-packages\\keras\\src\\optimizers\\__init__.py:309: The name tf.train.Optimizer is deprecated. Please use tf.compat.v1.train.Optimizer instead.\n",
      "\n"
     ]
    }
   ],
   "source": [
    "regressor.compile(optimizer='adam',loss='mean_squared_error')"
   ]
  },
  {
   "cell_type": "raw",
   "id": "c78c2f5e",
   "metadata": {},
   "source": [
    "#Fitting the RNN to the training_set"
   ]
  },
  {
   "cell_type": "code",
   "execution_count": 36,
   "id": "d6f76841",
   "metadata": {},
   "outputs": [
    {
     "name": "stdout",
     "output_type": "stream",
     "text": [
      "Epoch 1/100\n",
      "WARNING:tensorflow:From C:\\Users\\hp\\anaconda3\\envs\\TensorFlow\\lib\\site-packages\\keras\\src\\utils\\tf_utils.py:492: The name tf.ragged.RaggedTensorValue is deprecated. Please use tf.compat.v1.ragged.RaggedTensorValue instead.\n",
      "\n",
      "38/38 [==============================] - 9s 52ms/step - loss: 0.0289\n",
      "Epoch 2/100\n",
      "38/38 [==============================] - 2s 51ms/step - loss: 0.0062\n",
      "Epoch 3/100\n",
      "38/38 [==============================] - 2s 50ms/step - loss: 0.0062\n",
      "Epoch 4/100\n",
      "38/38 [==============================] - 2s 51ms/step - loss: 0.0053\n",
      "Epoch 5/100\n",
      "38/38 [==============================] - 2s 54ms/step - loss: 0.0053\n",
      "Epoch 6/100\n",
      "38/38 [==============================] - 2s 54ms/step - loss: 0.0050\n",
      "Epoch 7/100\n",
      "38/38 [==============================] - 3s 78ms/step - loss: 0.0046\n",
      "Epoch 8/100\n",
      "38/38 [==============================] - 4s 93ms/step - loss: 0.0048\n",
      "Epoch 9/100\n",
      "38/38 [==============================] - 3s 88ms/step - loss: 0.0042\n",
      "Epoch 10/100\n",
      "38/38 [==============================] - 3s 78ms/step - loss: 0.0054\n",
      "Epoch 11/100\n",
      "38/38 [==============================] - 3s 74ms/step - loss: 0.0046\n",
      "Epoch 12/100\n",
      "38/38 [==============================] - 3s 74ms/step - loss: 0.0041\n",
      "Epoch 13/100\n",
      "38/38 [==============================] - 3s 80ms/step - loss: 0.0039\n",
      "Epoch 14/100\n",
      "38/38 [==============================] - 3s 92ms/step - loss: 0.0042\n",
      "Epoch 15/100\n",
      "38/38 [==============================] - 3s 73ms/step - loss: 0.0040\n",
      "Epoch 16/100\n",
      "38/38 [==============================] - 3s 71ms/step - loss: 0.0036\n",
      "Epoch 17/100\n",
      "38/38 [==============================] - 3s 76ms/step - loss: 0.0033\n",
      "Epoch 18/100\n",
      "38/38 [==============================] - 3s 73ms/step - loss: 0.0034\n",
      "Epoch 19/100\n",
      "38/38 [==============================] - 3s 91ms/step - loss: 0.0036\n",
      "Epoch 20/100\n",
      "38/38 [==============================] - 4s 94ms/step - loss: 0.0037\n",
      "Epoch 21/100\n",
      "38/38 [==============================] - 3s 71ms/step - loss: 0.0034\n",
      "Epoch 22/100\n",
      "38/38 [==============================] - 3s 70ms/step - loss: 0.0040\n",
      "Epoch 23/100\n",
      "38/38 [==============================] - 3s 73ms/step - loss: 0.0032\n",
      "Epoch 24/100\n",
      "38/38 [==============================] - 3s 88ms/step - loss: 0.0035\n",
      "Epoch 25/100\n",
      "38/38 [==============================] - 3s 76ms/step - loss: 0.0032\n",
      "Epoch 26/100\n",
      "38/38 [==============================] - 3s 67ms/step - loss: 0.0027\n",
      "Epoch 27/100\n",
      "38/38 [==============================] - 3s 66ms/step - loss: 0.0031\n",
      "Epoch 28/100\n",
      "38/38 [==============================] - 3s 70ms/step - loss: 0.0028\n",
      "Epoch 29/100\n",
      "38/38 [==============================] - 3s 70ms/step - loss: 0.0028\n",
      "Epoch 30/100\n",
      "38/38 [==============================] - 3s 90ms/step - loss: 0.0029\n",
      "Epoch 31/100\n",
      "38/38 [==============================] - 3s 74ms/step - loss: 0.0032\n",
      "Epoch 32/100\n",
      "38/38 [==============================] - 3s 69ms/step - loss: 0.0028\n",
      "Epoch 33/100\n",
      "38/38 [==============================] - 3s 71ms/step - loss: 0.0027\n",
      "Epoch 34/100\n",
      "38/38 [==============================] - 3s 68ms/step - loss: 0.0026\n",
      "Epoch 35/100\n",
      "38/38 [==============================] - 3s 73ms/step - loss: 0.0027\n",
      "Epoch 36/100\n",
      "38/38 [==============================] - 4s 93ms/step - loss: 0.0026\n",
      "Epoch 37/100\n",
      "38/38 [==============================] - 3s 71ms/step - loss: 0.0025\n",
      "Epoch 38/100\n",
      "38/38 [==============================] - 3s 71ms/step - loss: 0.0025\n",
      "Epoch 39/100\n",
      "38/38 [==============================] - 3s 68ms/step - loss: 0.0026\n",
      "Epoch 40/100\n",
      "38/38 [==============================] - 3s 68ms/step - loss: 0.0027\n",
      "Epoch 41/100\n",
      "38/38 [==============================] - 4s 102ms/step - loss: 0.0027\n",
      "Epoch 42/100\n",
      "38/38 [==============================] - 4s 93ms/step - loss: 0.0026\n",
      "Epoch 43/100\n",
      "38/38 [==============================] - 3s 70ms/step - loss: 0.0023\n",
      "Epoch 44/100\n",
      "38/38 [==============================] - 3s 68ms/step - loss: 0.0024\n",
      "Epoch 45/100\n",
      "38/38 [==============================] - 3s 69ms/step - loss: 0.0023\n",
      "Epoch 46/100\n",
      "38/38 [==============================] - 3s 75ms/step - loss: 0.0023\n",
      "Epoch 47/100\n",
      "38/38 [==============================] - 4s 92ms/step - loss: 0.0022\n",
      "Epoch 48/100\n",
      "38/38 [==============================] - 3s 71ms/step - loss: 0.0023\n",
      "Epoch 49/100\n",
      "38/38 [==============================] - 3s 70ms/step - loss: 0.0023\n",
      "Epoch 50/100\n",
      "38/38 [==============================] - 3s 68ms/step - loss: 0.0021\n",
      "Epoch 51/100\n",
      "38/38 [==============================] - 3s 72ms/step - loss: 0.0019\n",
      "Epoch 52/100\n",
      "38/38 [==============================] - 3s 90ms/step - loss: 0.0021\n",
      "Epoch 53/100\n",
      "38/38 [==============================] - 3s 79ms/step - loss: 0.0022\n",
      "Epoch 54/100\n",
      "38/38 [==============================] - 3s 77ms/step - loss: 0.0021\n",
      "Epoch 55/100\n",
      "38/38 [==============================] - 3s 77ms/step - loss: 0.0021\n",
      "Epoch 56/100\n",
      "38/38 [==============================] - 3s 78ms/step - loss: 0.0018\n",
      "Epoch 57/100\n",
      "38/38 [==============================] - 3s 74ms/step - loss: 0.0022\n",
      "Epoch 58/100\n",
      "38/38 [==============================] - 3s 86ms/step - loss: 0.0019\n",
      "Epoch 59/100\n",
      "38/38 [==============================] - 3s 69ms/step - loss: 0.0020\n",
      "Epoch 60/100\n",
      "38/38 [==============================] - 3s 68ms/step - loss: 0.0020\n",
      "Epoch 61/100\n",
      "38/38 [==============================] - 3s 71ms/step - loss: 0.0017\n",
      "Epoch 62/100\n",
      "38/38 [==============================] - 3s 91ms/step - loss: 0.0019\n",
      "Epoch 63/100\n",
      "38/38 [==============================] - 4s 93ms/step - loss: 0.0022\n",
      "Epoch 64/100\n",
      "38/38 [==============================] - 3s 75ms/step - loss: 0.0019\n",
      "Epoch 65/100\n",
      "38/38 [==============================] - 3s 71ms/step - loss: 0.0019\n",
      "Epoch 66/100\n",
      "38/38 [==============================] - 3s 73ms/step - loss: 0.0021\n",
      "Epoch 67/100\n",
      "38/38 [==============================] - 3s 72ms/step - loss: 0.0018\n",
      "Epoch 68/100\n",
      "38/38 [==============================] - 3s 77ms/step - loss: 0.0019\n",
      "Epoch 69/100\n",
      "38/38 [==============================] - 3s 88ms/step - loss: 0.0017\n",
      "Epoch 70/100\n",
      "38/38 [==============================] - 3s 72ms/step - loss: 0.0018\n",
      "Epoch 71/100\n",
      "38/38 [==============================] - 3s 70ms/step - loss: 0.0017\n",
      "Epoch 72/100\n",
      "38/38 [==============================] - 3s 73ms/step - loss: 0.0017\n",
      "Epoch 73/100\n",
      "38/38 [==============================] - 3s 72ms/step - loss: 0.0018\n",
      "Epoch 74/100\n",
      "38/38 [==============================] - 4s 93ms/step - loss: 0.0017\n",
      "Epoch 75/100\n",
      "38/38 [==============================] - 3s 76ms/step - loss: 0.0018\n",
      "Epoch 76/100\n",
      "38/38 [==============================] - 3s 71ms/step - loss: 0.0016\n",
      "Epoch 77/100\n",
      "38/38 [==============================] - 3s 72ms/step - loss: 0.0017\n",
      "Epoch 78/100\n",
      "38/38 [==============================] - 3s 71ms/step - loss: 0.0016\n",
      "Epoch 79/100\n",
      "38/38 [==============================] - 3s 79ms/step - loss: 0.0018\n",
      "Epoch 80/100\n",
      "38/38 [==============================] - 3s 88ms/step - loss: 0.0019\n",
      "Epoch 81/100\n",
      "38/38 [==============================] - 3s 69ms/step - loss: 0.0017\n",
      "Epoch 82/100\n",
      "38/38 [==============================] - 3s 91ms/step - loss: 0.0016\n",
      "Epoch 83/100\n",
      "38/38 [==============================] - 3s 75ms/step - loss: 0.0015\n",
      "Epoch 84/100\n",
      "38/38 [==============================] - 3s 71ms/step - loss: 0.0015\n",
      "Epoch 85/100\n",
      "38/38 [==============================] - 4s 96ms/step - loss: 0.0016\n",
      "Epoch 86/100\n",
      "38/38 [==============================] - 3s 75ms/step - loss: 0.0016\n",
      "Epoch 87/100\n",
      "38/38 [==============================] - 3s 73ms/step - loss: 0.0015\n",
      "Epoch 88/100\n",
      "38/38 [==============================] - 3s 76ms/step - loss: 0.0015\n",
      "Epoch 89/100\n",
      "38/38 [==============================] - 3s 74ms/step - loss: 0.0015\n",
      "Epoch 90/100\n",
      "38/38 [==============================] - 3s 90ms/step - loss: 0.0017\n",
      "Epoch 91/100\n",
      "38/38 [==============================] - 3s 80ms/step - loss: 0.0015\n",
      "Epoch 92/100\n",
      "38/38 [==============================] - 3s 75ms/step - loss: 0.0015\n",
      "Epoch 93/100\n",
      "38/38 [==============================] - 3s 72ms/step - loss: 0.0013\n",
      "Epoch 94/100\n",
      "38/38 [==============================] - 3s 71ms/step - loss: 0.0014\n",
      "Epoch 95/100\n",
      "38/38 [==============================] - 3s 76ms/step - loss: 0.0013\n",
      "Epoch 96/100\n",
      "38/38 [==============================] - 3s 92ms/step - loss: 0.0014\n",
      "Epoch 97/100\n",
      "38/38 [==============================] - 3s 78ms/step - loss: 0.0013\n",
      "Epoch 98/100\n",
      "38/38 [==============================] - 3s 74ms/step - loss: 0.0015\n",
      "Epoch 99/100\n",
      "38/38 [==============================] - 3s 74ms/step - loss: 0.0013\n",
      "Epoch 100/100\n",
      "38/38 [==============================] - 3s 71ms/step - loss: 0.0012\n"
     ]
    },
    {
     "data": {
      "text/plain": [
       "<keras.src.callbacks.History at 0x1cdfde8f670>"
      ]
     },
     "execution_count": 36,
     "metadata": {},
     "output_type": "execute_result"
    }
   ],
   "source": [
    "regressor.fit(X_train,y_train,epochs=100,batch_size=32)"
   ]
  },
  {
   "cell_type": "markdown",
   "id": "83e23f95",
   "metadata": {},
   "source": [
    "#Part-3 Making the Predictions and Visualizing the results"
   ]
  },
  {
   "cell_type": "code",
   "execution_count": 37,
   "id": "c51ef0f2",
   "metadata": {},
   "outputs": [
    {
     "name": "stdout",
     "output_type": "stream",
     "text": [
      "1/1 [==============================] - 2s 2s/step\n"
     ]
    }
   ],
   "source": [
    "#Getting the real stock price of 2017\n",
    "dataset_test=pd.read_csv('Google_Stock_Price_Test.csv')\n",
    "real_stock_price=dataset_test.iloc[:,1:2].values\n",
    "\n",
    "#Getting the Predicted stock price of 2017\n",
    "dataset_total=pd.concat((dataset_train['Open'],dataset_test['Open']),axis=0)\n",
    "inputs=dataset_total[len(dataset_total)-len(dataset_test)-60:].values\n",
    "inputs=inputs.reshape(-1,1)\n",
    "inputs=sc.transform(inputs)\n",
    "\n",
    "X_test=[]\n",
    "for i in range(60,80):\n",
    "    X_test.append(inputs[i-60:i,0])\n",
    "\n",
    "X_test=np.array(X_test)\n",
    "X_test=np.reshape(X_test,(X_test.shape[0],X_test.shape[1],1))\n",
    "\n",
    "predicted_stock_price=regressor.predict(X_test)\n",
    "predicted_stock_price=sc.inverse_transform(predicted_stock_price)"
   ]
  },
  {
   "cell_type": "code",
   "execution_count": 38,
   "id": "d47d9f21",
   "metadata": {},
   "outputs": [
    {
     "data": {
      "image/png": "[encoded data removed]",
      "text/plain": [
       "<Figure size 640x480 with 1 Axes>"
      ]
     },
     "metadata": {},
     "output_type": "display_data"
    }
   ],
   "source": [
    "#Visualizing the Results\n",
    "plt.plot(real_stock_price,color='red',label='Real Google Stock Price')\n",
    "plt.plot(predicted_stock_price,color='blue',label='Predicted Google Stock Price')\n",
    "plt.title('Google Stock Openning Price Prediction')\n",
    "plt.xlabel('Time')\n",
    "plt.ylabel('Stock Price')\n",
    "plt.legend()\n",
    "plt.show()"
   ]
  }
 ],
 "metadata": {
  "kernelspec": {
   "display_name": "Python 3 (ipykernel)",
   "language": "python",
   "name": "python3"
  },
  "language_info": {
   "codemirror_mode": {
    "name": "ipython",
    "version": 3
   },
   "file_extension": ".py",
   "mimetype": "text/x-python",
   "name": "python",
   "nbconvert_exporter": "python",
   "pygments_lexer": "ipython3",
   "version": "3.10.13"
  }
 },
 "nbformat": 4,
 "nbformat_minor": 5
}

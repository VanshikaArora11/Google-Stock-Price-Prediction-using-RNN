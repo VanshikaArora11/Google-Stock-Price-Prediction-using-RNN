{
 "cells": [
  {
   "cell_type": "markdown",
   "id": "7ac8f866",
   "metadata": {},
   "source": [
    "#Part 1 Data Preprocessing\n",
    "#Importing Libraries"
   ]
  },
  {
   "cell_type": "code",
   "execution_count": 10,
   "id": "04bf5897",
   "metadata": {},
   "outputs": [],
   "source": [
    "import numpy as np\n",
    "import matplotlib.pyplot as plt\n",
    "import pandas as pd"
   ]
  },
  {
   "cell_type": "markdown",
   "id": "1648aa0b",
   "metadata": {},
   "source": [
    "#Importing Training Dataset"
   ]
  },
  {
   "cell_type": "code",
   "execution_count": 11,
   "id": "9f0dfa3b",
   "metadata": {},
   "outputs": [],
   "source": [
    "dataset_train=pd.read_csv(\"Google_Stock_Price_Train.csv\")\n",
    "training_set=dataset_train.iloc[:,1:2].values"
   ]
  },
  {
   "cell_type": "markdown",
   "id": "b79fa37b",
   "metadata": {},
   "source": [
    "#Feature Scaling (Standardization/ Normalization)"
   ]
  },
  {
   "cell_type": "code",
   "execution_count": 12,
   "id": "2d2dc227",
   "metadata": {},
   "outputs": [
    {
     "ename": "ModuleNotFoundError",
     "evalue": "No module named 'sklearn'",
     "output_type": "error",
     "traceback": [
      "\u001b[1;31m---------------------------------------------------------------------------\u001b[0m",
      "\u001b[1;31mModuleNotFoundError\u001b[0m                       Traceback (most recent call last)",
      "Cell \u001b[1;32mIn[12], line 1\u001b[0m\n\u001b[1;32m----> 1\u001b[0m \u001b[38;5;28;01mfrom\u001b[39;00m \u001b[38;5;21;01msklearn\u001b[39;00m\u001b[38;5;21;01m.\u001b[39;00m\u001b[38;5;21;01mpreprocessing\u001b[39;00m \u001b[38;5;28;01mimport\u001b[39;00m MinMaxScaler\n\u001b[0;32m      2\u001b[0m sc\u001b[38;5;241m=\u001b[39mMinMaxScaler(feature_range\u001b[38;5;241m=\u001b[39m(\u001b[38;5;241m0\u001b[39m,\u001b[38;5;241m1\u001b[39m))\n\u001b[0;32m      3\u001b[0m training_set_scaled\u001b[38;5;241m=\u001b[39msc\u001b[38;5;241m.\u001b[39mfit_transform(training_set)\n",
      "\u001b[1;31mModuleNotFoundError\u001b[0m: No module named 'sklearn'"
     ]
    }
   ],
   "source": [
    "from sklearn.preprocessing import MinMaxScaler\n",
    "sc=MinMaxScaler(feature_range=(0,1))\n",
    "training_set_scaled=sc.fit_transform(training_set)\n",
    "print(training_set_scaled)"
   ]
  },
  {
   "cell_type": "markdown",
   "id": "fe8f099b",
   "metadata": {},
   "source": [
    "#Creating a data structure with 60 timestamps and 1 output"
   ]
  },
  {
   "cell_type": "code",
   "execution_count": 9,
   "id": "2197abff",
   "metadata": {},
   "outputs": [
    {
     "ename": "NameError",
     "evalue": "name 'training_set_scaled' is not defined",
     "output_type": "error",
     "traceback": [
      "\u001b[1;31m---------------------------------------------------------------------------\u001b[0m",
      "\u001b[1;31mNameError\u001b[0m                                 Traceback (most recent call last)",
      "Cell \u001b[1;32mIn[9], line 4\u001b[0m\n\u001b[0;32m      2\u001b[0m y_train\u001b[38;5;241m=\u001b[39m[]\n\u001b[0;32m      3\u001b[0m \u001b[38;5;28;01mfor\u001b[39;00m i \u001b[38;5;129;01min\u001b[39;00m \u001b[38;5;28mrange\u001b[39m(\u001b[38;5;241m60\u001b[39m,\u001b[38;5;241m1258\u001b[39m):\n\u001b[1;32m----> 4\u001b[0m     X_train\u001b[38;5;241m.\u001b[39mappend(\u001b[43mtraining_set_scaled\u001b[49m[i\u001b[38;5;241m-\u001b[39m\u001b[38;5;241m60\u001b[39m:i,\u001b[38;5;241m0\u001b[39m])\n\u001b[0;32m      5\u001b[0m     y_train\u001b[38;5;241m.\u001b[39mappend(training_set_scaled[i,\u001b[38;5;241m0\u001b[39m])\n\u001b[0;32m      6\u001b[0m X_train,y_train\u001b[38;5;241m=\u001b[39mnp\u001b[38;5;241m.\u001b[39marray(X_train),np\u001b[38;5;241m.\u001b[39marray(y_train)\n",
      "\u001b[1;31mNameError\u001b[0m: name 'training_set_scaled' is not defined"
     ]
    }
   ],
   "source": [
    "X_train=[]\n",
    "y_train=[]\n",
    "for i in range(60,1258):\n",
    "    X_train.append(training_set_scaled[i-60:i,0])\n",
    "    y_train.append(training_set_scaled[i,0])\n",
    "X_train,y_train=np.array(X_train),np.array(y_train)\n",
    "\n",
    "print(\"X_Train Data\",X_train)\n",
    "print(\"y_train Date\",y_train)"
   ]
  },
  {
   "cell_type": "markdown",
   "id": "9d1617df",
   "metadata": {},
   "source": [
    "#Reshaping the data (Adding Dimensions)"
   ]
  },
  {
   "cell_type": "markdown",
   "id": "5a7ecc99",
   "metadata": {},
   "source": [
    "X_train=np.reshape(X_train,(X_train.shape[0],X_train.shape[1],1))"
   ]
  },
  {
   "cell_type": "markdown",
   "id": "ba337836",
   "metadata": {},
   "source": [
    "#Part 2- Building the RNN"
   ]
  },
  {
   "cell_type": "code",
   "execution_count": null,
   "id": "a6c6b19a",
   "metadata": {},
   "outputs": [],
   "source": [
    "from keras.models import Sequential\n",
    "from keras.layers import Dense, LSTM, Dropout"
   ]
  },
  {
   "cell_type": "markdown",
   "id": "9b5f88bf",
   "metadata": {},
   "source": [
    "#Initalising the RNN"
   ]
  },
  {
   "cell_type": "code",
   "execution_count": null,
   "id": "fbdf487c",
   "metadata": {},
   "outputs": [],
   "source": [
    "regressor=Sequential()"
   ]
  },
  {
   "cell_type": "markdown",
   "id": "6ec148c1",
   "metadata": {},
   "source": [
    "#Adding the first LSTM layer and some Dropout Regularization"
   ]
  },
  {
   "cell_type": "code",
   "execution_count": null,
   "id": "9bd4284a",
   "metadata": {},
   "outputs": [],
   "source": [
    "#Layer-1\n",
    "regressor.add(LSTM(units=50,return_sequences=True,input_shape=(X_train.shape[1],1)))\n",
    "regressor.add(Dropout(0.2))\n",
    "#Layer-2\n",
    "regressor.add(LSTM(units=50,return_sequences=True))\n",
    "regressor.add(Dropout(0.2))\n",
    "#Layer-3\n",
    "regressor.add(LSTM(units=50,return_sequences=True))\n",
    "regressor.add(Dropout(0.2))\n",
    "#Layer-4\n",
    "regressor.add(LSTM(units=50,return_sequences=False))\n",
    "regressor.add(Dropout(0.2))\n",
    "              \n",
    "#Adding the output layer\n",
    "regressor.add(Dense(units=1))"
   ]
  },
  {
   "cell_type": "markdown",
   "id": "824ea517",
   "metadata": {},
   "source": [
    "#Compiling the RNN"
   ]
  },
  {
   "cell_type": "code",
   "execution_count": null,
   "id": "ed1c81d7",
   "metadata": {},
   "outputs": [],
   "source": [
    "regressor.compile(optimizer='adam',loss='mean_squared_error')"
   ]
  },
  {
   "cell_type": "raw",
   "id": "c78c2f5e",
   "metadata": {},
   "source": [
    "#Fitting the RNN to the training_set"
   ]
  },
  {
   "cell_type": "code",
   "execution_count": null,
   "id": "d6f76841",
   "metadata": {},
   "outputs": [],
   "source": [
    "regressor.fit(X_train,y_train,epochs=100,batch_size=32)"
   ]
  },
  {
   "cell_type": "markdown",
   "id": "83e23f95",
   "metadata": {},
   "source": [
    "#Part-3 Making the Predictions and Visualizing the results"
   ]
  },
  {
   "cell_type": "code",
   "execution_count": null,
   "id": "c51ef0f2",
   "metadata": {},
   "outputs": [],
   "source": [
    "#Getting the real stock price of 2017\n",
    "dataset_test=pd.read_csv('Google_Stock_Price_Test.csv')\n",
    "real_stock_price=dataset_test.iloc[:,1:2].values\n",
    "\n",
    "#Getting the Predicted stock price of 2017\n",
    "dataset_total=pd.concat((dataset_train['Open'],dataset_test['Open']),axis=0)\n",
    "inputs=dataset_total[len(dataset_total)-len(dataset_test)-60:].values\n",
    "inputs=inputs.reshape(-1,1)\n",
    "inputs=sc.transform(inputs)\n",
    "\n",
    "X_test=[]\n",
    "for i in range(60,80):\n",
    "    X_test.append(inputs[i-60:i,0])\n",
    "\n",
    "X_test=np.array(X_test)\n",
    "X_test=np.reshape(X_test,(X_test.shape[0],X_test.shape[1],1))\n",
    "\n",
    "predicted_stock_price=regressor.predict(X_test)\n",
    "predicted_stock_price=sc.inverse_transform(predicted_stock_price)"
   ]
  },
  {
   "cell_type": "code",
   "execution_count": null,
   "id": "d47d9f21",
   "metadata": {},
   "outputs": [],
   "source": [
    "#Visualizing the Results\n",
    "plt.plot(real_stock_price,color='red',label='Real Google Stock Price')\n",
    "plt.plot(predicted_stock_price,color='blue',label='Predicted Google Stock Price')\n",
    "plt.title('Google Stock Openning Price Prediction')\n",
    "plt.xlabel('Time')\n",
    "plt.ylabel('Stock Price')\n",
    "plt.legend()\n",
    "plt.show()"
   ]
  }
 ],
 "metadata": {
  "kernelspec": {
   "display_name": "Python 3 (ipykernel)",
   "language": "python",
   "name": "python3"
  },
  "language_info": {
   "codemirror_mode": {
    "name": "ipython",
    "version": 3
   },
   "file_extension": ".py",
   "mimetype": "text/x-python",
   "name": "python",
   "nbconvert_exporter": "python",
   "pygments_lexer": "ipython3",
   "version": "3.10.13"
  }
 },
 "nbformat": 4,
 "nbformat_minor": 5
}
